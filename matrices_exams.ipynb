{
 "cells": [
  {
   "cell_type": "markdown",
   "metadata": {},
   "source": [
    "# Simpler integer matrices\n",
    "\n",
    "One of the annoying things when teaching is that \n",
    "the **smartass** that sets the questions will just\n",
    "take random integer coefficients without thinking\n",
    "so you get a matrix that isn't nice to work with.\n",
    "\n",
    "\n",
    "This notebook attempts to solve the problem of the poor instructor/grader.\n",
    "\n",
    "- 3x3 rank 2 matrix with kernel and equation $ax + by + cz = 0$ for the image\n",
    "- 3x3 invertible matrix with given determinant and hints on how to find its inverse\n",
    "- a function for rendering an np.array as a LaTex pmatrix\n",
    "\n",
    "---\n",
    "\n",
    "## what you get?\n",
    "\n",
    "def rand_rank2(max_int=6):<br>\n",
    "\n",
    "    ''' returns \n",
    "        A rank 2,  3x3 matrix\n",
    "        K vector basis for the kernel\n",
    "        V vector orthogonal to the image\n",
    "    '''\n",
    "\n",
    "def rand_inv(high=3,\n",
    "             D=[1,1,1])->np.array:<br>\n",
    "    \n",
    "    ''' returns an invertible matrix with\n",
    "        - integer coefficients in the range [-high, high] \n",
    "        - determinant is the product of the elements of D\n",
    "        - a list of row operations to put it in upper triangular form\n",
    "        \n",
    "        see https://en.wikipedia.org/wiki/Bruhat_decomposition\n",
    "        \n",
    "        \n",
    "        \n",
    "def rand_diagonalisable(max_int=3,\n",
    "             D=[1,2,3])->(np.array,np.array):\n",
    "    \n",
    "    '''returns \n",
    "    \n",
    "    3x3 matrix M with\n",
    "    - integer coefficients in [-max_int,max_int]\n",
    "    - eigenvalues from the list D\n",
    "    \n",
    "    3x3 matrix A with\n",
    "    - integer coefficients\n",
    "    - M = A^{-1}DA\n",
    "    \n",
    "    '''\n",
    "        \n",
    "    \n",
    "\n",
    "---\n",
    "\n",
    "Copyright 2022  Greg McShane (macbuse.github)\n",
    "\n",
    "Permission is hereby granted, free of charge, to any person obtaining a copy of this software and associated documentation files (the \"Software\"), to deal in the Software without restriction, including without limitation the rights to use, copy, modify, merge, publish, distribute, sublicense, and/or sell copies of the Software, and to permit persons to whom the Software is furnished to do so, subject to the following conditions:\n",
    "\n",
    "The above copyright notice and this permission notice shall be included in all copies or substantial portions of the Software.\n",
    "\n",
    "THE SOFTWARE IS PROVIDED \"AS IS\", WITHOUT WARRANTY OF ANY KIND, EXPRESS OR IMPLIED, INCLUDING BUT NOT LIMITED TO THE WARRANTIES OF MERCHANTABILITY, FITNESS FOR A PARTICULAR PURPOSE AND NONINFRINGEMENT. IN NO EVENT SHALL THE AUTHORS OR COPYRIGHT HOLDERS BE LIABLE FOR ANY CLAIM, DAMAGES OR OTHER LIABILITY, WHETHER IN AN ACTION OF CONTRACT, TORT OR OTHERWISE, ARISING FROM, OUT OF OR IN CONNECTION WITH THE SOFTWARE OR THE USE OR OTHER DEALINGS IN THE SOFTWARE.\n"
   ]
  },
  {
   "cell_type": "code",
   "execution_count": 3,
   "metadata": {},
   "outputs": [],
   "source": [
    "import numpy as np\n",
    "\n",
    "def m2t(X):\n",
    "    def l2t(R):\n",
    "        return  ' & '.join([str(_) for _ in R])\n",
    "    \n",
    "    body = ' \\\\\\\\ \\n'.join([l2t(_) for _ in X ])\n",
    "    return f\"\\\\begin{{pmatrix}}\\n{body}\\n\\\\end{{pmatrix}}\"\n",
    "\n",
    "def mat2adj(A):     \n",
    "    '''\n",
    "    Calculate the adjugate matrix of a 3x3 matrix\n",
    "    \n",
    "    https://en.wikipedia.org/wiki/Adjugate_matrix\n",
    "    '''\n",
    "    X = np.zeros_like(A)\n",
    "    v = np.arange(3).astype(int)\n",
    "    for i in range(3):\n",
    "        a,b,c = (v + i) % 3\n",
    "        X[c] = np.cross(A[:,a], A[:,b])\n",
    "    return X"
   ]
  },
  {
   "cell_type": "code",
   "execution_count": 10,
   "metadata": {},
   "outputs": [
    {
     "data": {
      "text/plain": [
       "(array([[ 3, -1,  4],\n",
       "        [-3, -5,  0],\n",
       "        [ 0, -3,  2]]),\n",
       " array([-10,   6,   9]),\n",
       " array([-1, -1,  2]))"
      ]
     },
     "execution_count": 10,
     "metadata": {},
     "output_type": "execute_result"
    }
   ],
   "source": [
    "def kill_factors(v):\n",
    "        \n",
    "    def gcd(b,a):\n",
    "        while b:\n",
    "            a,b = b,a%b\n",
    "        return a\n",
    "\n",
    "    x = sorted(list(abs(v)))\n",
    "    a = x[2]\n",
    "    for b in x[:2]:\n",
    "        a = gcd(a,b)\n",
    "        if a == 1 : return v\n",
    "    if a == 0 : return v\n",
    "    return v//a\n",
    "\n",
    "def rand_rank2(max_int=6):\n",
    "    '''returns \n",
    "        A rank 2,  3x3 matrix\n",
    "        K vector basis for the kernel\n",
    "        V vector orthogonal to the image\n",
    "    '''\n",
    "\n",
    "    A = np.random.randint(-max_int, high=max_int,size=9).reshape(-1,3)\n",
    "\n",
    "    # make sure the first 2 rows are LI for the next step below\n",
    "    if np.all(np.cross(A[0],A[1])) == 0: \n",
    "        #random perturbation this might go beyond max_int :(\n",
    "        A[0,0] += np.random.choice([-1,1])\n",
    "\n",
    "    # I don't want a column with all zeros\n",
    "    for k,v in enumerate(np.all(A[:2,:] == 0,axis=0)):\n",
    "        if v: A[0,k] = 1\n",
    "\n",
    "    # and I don't like common factors either\n",
    "    A[0] = kill_factors(A[0])\n",
    "    A[1] = kill_factors(A[1])\n",
    "        \n",
    "    \n",
    "    # the 3rd row is a combination of the other two\n",
    "    V = np.random.choice([-5,-3,-2,-1,1,2,3,5], 3)\n",
    "    V[2] = -1\n",
    "    A[2] = V[:2] @ A[:2] \n",
    "    \n",
    "    #kernel is easy to calculate\n",
    "    K = kill_factors(np.cross(A[0],A[1]))\n",
    "    \n",
    "    #now shuffle the rows\n",
    "    perm = [0,1,2]\n",
    "    np.random.shuffle(perm)\n",
    "    \n",
    "    return A[perm], K, V[perm]\n",
    "\n",
    "#f\"{a}x + {b}y + {c}z = 0\":\n",
    "\n",
    "A,K,I = rand_rank2()\n",
    "A,K, I"
   ]
  },
  {
   "cell_type": "code",
   "execution_count": 27,
   "metadata": {},
   "outputs": [],
   "source": [
    "L = [ rand_rank2() for k in range(100) ]\n",
    "L = [x for x in L if np.max(np.abs(x[0])) < 10 ]\n",
    "    "
   ]
  },
  {
   "cell_type": "code",
   "execution_count": 43,
   "metadata": {},
   "outputs": [
    {
     "name": "stdout",
     "output_type": "stream",
     "text": [
      "\n",
      "ker = {t[ 5 -2  1]} im = 1x + -1y + 2z = 0 \n",
      "\n",
      "ker = {t[  6 -15  28]} im = 1x + -1y + 2z = 0 \n",
      "\n",
      "ker = {t[ -6  13 -23]} im = -1x + 1y + 2z = 0 \n",
      "\n",
      "ker = {t[-3  3 -2]} im = -1x + 5y + -3z = 0 \n",
      "\n",
      "ker = {t[-12   7  -9]} im = 1x + -3y + -1z = 0 \n",
      "\n",
      "ker = {t[ -3  -1 -12]} im = -1x + -1y + -1z = 0 \n",
      "\n",
      "ker = {t[-5 -4 -4]} im = 5x + -1y + -1z = 0 \n",
      "\n",
      "ker = {t[  7  -3 -10]} im = -1x + -1y + 3z = 0 \n",
      "\n",
      "ker = {t[-6 -1  2]} im = -2x + 1y + -1z = 0 \n",
      "\n",
      "ker = {t[ 20 -13   3]} im = -1x + -1y + -1z = 0 \n"
     ]
    }
   ],
   "source": [
    "exo = []\n",
    "for x,y,z in L[:10]:\n",
    "    #exo.extend(['\\item $$ A = ', m2t(x),'$$\\n%{}{}'.format(y,z)])\n",
    "    exo.extend(['\\nker = {{t{}}} im = {}x + {}y + {}z = 0 '.format(y,z[0],z[1],z[2])])\n",
    "print('\\n'.join(exo))"
   ]
  },
  {
   "cell_type": "code",
   "execution_count": 7,
   "metadata": {},
   "outputs": [
    {
     "name": "stdout",
     "output_type": "stream",
     "text": [
      "\\begin{pmatrix}\n",
      "1 & -5 & 0 \\\\ \n",
      "-3 & 17 & -2 \\\\ \n",
      "-2 & 10 & 1\n",
      "\\end{pmatrix} \n",
      "\n",
      "det = 2 \n",
      "\n",
      "L_2 <- L_2 + 3L_1\n",
      "L_3 <- L_3 + 2L_1 \n",
      "\n",
      "comatrice = \\begin{pmatrix}\n",
      "37 & 5 & 10 \\\\ \n",
      "7 & 1 & 2 \\\\ \n",
      "4 & 0 & 2\n",
      "\\end{pmatrix}\n"
     ]
    }
   ],
   "source": [
    "import re\n",
    "\n",
    "def tidy(ss):\n",
    "    '''clean up a list of row operations'''\n",
    "    ss = re.sub('\\+ \\-', '- ',ss)\n",
    "    ss = re.sub('([\\s|-])1L', lambda x: x[1] + 'L',ss)\n",
    "    return ss\n",
    "\n",
    "def ut(L:list, \n",
    "       D=[1,1,1])->np.array:\n",
    "    \n",
    "    x,y,z = L\n",
    "    A  = np.diag(D).astype(int)\n",
    "    A[0,1:] = x,y\n",
    "    A[1,-1] = z\n",
    "    return A\n",
    "\n",
    "def rand_inv(max_int=3,\n",
    "             D=[1,1,1])->np.array:\n",
    "    \n",
    "    ''' returns an invertible 3x3 matrix with\n",
    "        - integer coefficients in the range [-high, high] \n",
    "        - determinant is the product of the elements of D\n",
    "        - a list of row operations to put it in upper triangular form\n",
    "        \n",
    "        see https://en.wikipedia.org/wiki/Bruhat_decomposition\n",
    "    '''\n",
    "    \n",
    "    X, Y = np.random.randint(-max_int, high=max_int, size=6).reshape(2,-1)\n",
    "    coeffs = -ut(X).T[[1,2,2],[0,0,1]]\n",
    "    \n",
    "    row_ops = ['L_2 <- L_2 + {}L_1',\n",
    "               'L_3 <- L_3 + {}L_1', \n",
    "               'L_3 <- L_3 + {}L_2']\n",
    "    row_ops = [ss.format(coeff) for coeff,ss in zip(coeffs, row_ops)\n",
    "                                 if coeff != 0]\n",
    "    \n",
    "    return ut(X).T @ ut(Y, D=D), '\\n'.join(row_ops), ut(Y, D=D)\n",
    "\n",
    "A, RR, V = rand_inv(D=[1,2,1],\n",
    "                max_int=5)\n",
    "\n",
    "AA = mat2adj(A)\n",
    "\n",
    "\n",
    "print(m2t(A), \n",
    "      '\\n'*2  +  f\"det = {(AA @ A) [0,0]}\",\n",
    "      '\\n'*2 + tidy(RR),\n",
    "      '\\n'*2 + f\"comatrice = {m2t(AA)}\")\n"
   ]
  },
  {
   "cell_type": "code",
   "execution_count": null,
   "metadata": {},
   "outputs": [],
   "source": [
    "mats = []\n",
    "for _ in range(100):\n",
    "    A, RR, V = rand_inv(D=[1,2,1],\n",
    "                    max_int=5)\n",
    "\n",
    "    AA = mat2adj(A)\n",
    "    mats.append([A,AA, RR,V])"
   ]
  },
  {
   "cell_type": "code",
   "execution_count": 32,
   "metadata": {},
   "outputs": [
    {
     "data": {
      "image/png": "[encoded data removed]",
      "text/plain": [
       "<Figure size 640x480 with 1 Axes>"
      ]
     },
     "metadata": {},
     "output_type": "display_data"
    }
   ],
   "source": [
    "import matplotlib.pyplot as plt\n",
    "\n",
    "nn = [ np.max(np.abs(mm[1])) for mm in mats]\n",
    "\n",
    "plt.hist(nn, bins = 10);\n"
   ]
  },
  {
   "cell_type": "code",
   "execution_count": 36,
   "metadata": {},
   "outputs": [],
   "source": [
    "good = [ mm   for mm in mats if np.max(np.abs(mm[1])) < 10]"
   ]
  },
  {
   "cell_type": "code",
   "execution_count": 74,
   "metadata": {},
   "outputs": [],
   "source": [
    "A,B, R, T = good[0]\n",
    "det = np.linalg.det"
   ]
  },
  {
   "cell_type": "code",
   "execution_count": 75,
   "metadata": {},
   "outputs": [
    {
     "name": "stdout",
     "output_type": "stream",
     "text": [
      "3.9999999999999947 2.0\n",
      "2.0 4.0\n",
      "4.0 2.0\n",
      "1.999999999999998 3.9999999999999964\n",
      "4.0 2.0\n",
      "2.0 4.0\n",
      "\\item $$ A = \n",
      "\\begin{pmatrix}\n",
      "-6 & 5 & 6 \\\\ \n",
      "0 & 1 & 2 \\\\ \n",
      "4 & 0 & 2\n",
      "\\end{pmatrix}\n",
      ",\\,\n",
      "B = \n",
      "\\begin{pmatrix}\n",
      "1 & -5 & 2 \\\\ \n",
      "4 & -18 & 6 \\\\ \n",
      "-2 & 10 & -3\n",
      "\\end{pmatrix}\n",
      "$$\n",
      "\\item $$ A = \n",
      "\\begin{pmatrix}\n",
      "1 & -5 & -1 \\\\ \n",
      "-1 & 7 & 2 \\\\ \n",
      "0 & -2 & 0\n",
      "\\end{pmatrix}\n",
      ",\\,\n",
      "B = \n",
      "\\begin{pmatrix}\n",
      "4 & 2 & -3 \\\\ \n",
      "0 & 0 & -1 \\\\ \n",
      "2 & 2 & 2\n",
      "\\end{pmatrix}\n",
      "$$\n",
      "\\item $$ A = \n",
      "\\begin{pmatrix}\n",
      "-2 & 0 & -2 \\\\ \n",
      "1 & 1 & -2 \\\\ \n",
      "4 & 0 & 2\n",
      "\\end{pmatrix}\n",
      ",\\,\n",
      "B = \n",
      "\\begin{pmatrix}\n",
      "1 & 0 & 1 \\\\ \n",
      "-5 & 2 & -3 \\\\ \n",
      "-2 & 0 & -1\n",
      "\\end{pmatrix}\n",
      "$$\n",
      "\\item $$ A = \n",
      "\\begin{pmatrix}\n",
      "1 & -2 & -2 \\\\ \n",
      "0 & 2 & 2 \\\\ \n",
      "3 & -14 & -13\n",
      "\\end{pmatrix}\n",
      ",\\,\n",
      "B = \n",
      "\\begin{pmatrix}\n",
      "2 & 2 & 0 \\\\ \n",
      "6 & -7 & -2 \\\\ \n",
      "-6 & 8 & 2\n",
      "\\end{pmatrix}\n",
      "$$\n",
      "\\item $$ A = \n",
      "\\begin{pmatrix}\n",
      "-3 & 1 & 3 \\\\ \n",
      "-1 & 1 & -1 \\\\ \n",
      "-2 & 0 & 2\n",
      "\\end{pmatrix}\n",
      ",\\,\n",
      "B = \n",
      "\\begin{pmatrix}\n",
      "1 & -1 & -2 \\\\ \n",
      "2 & 0 & -3 \\\\ \n",
      "1 & -1 & -1\n",
      "\\end{pmatrix}\n",
      "$$\n",
      "\\item $$ A = \n",
      "\\begin{pmatrix}\n",
      "1 & 4 & 4 \\\\ \n",
      "-1 & -2 & -2 \\\\ \n",
      "-2 & -8 & -7\n",
      "\\end{pmatrix}\n",
      ",\\,\n",
      "B = \n",
      "\\begin{pmatrix}\n",
      "-2 & -4 & 0 \\\\ \n",
      "-3 & 1 & -2 \\\\ \n",
      "4 & 0 & 2\n",
      "\\end{pmatrix}\n",
      "$$\n"
     ]
    }
   ],
   "source": [
    "exo = []\n",
    "i = 0\n",
    "for A,B,R,T in good:\n",
    "    if i % 2 == 0: A,B = B,A\n",
    "    i += 1\n",
    "    print(det(A),det(B))\n",
    "    exo.extend(['\\item $$ A = ', m2t(A),',\\,','B = ', m2t(B),'$$'])\n",
    "\n",
    "print('\\n'.join(exo))"
   ]
  },
  {
   "cell_type": "code",
   "execution_count": 67,
   "metadata": {},
   "outputs": [
    {
     "data": {
      "text/plain": [
       "array([[ -23,  105,  -34],\n",
       "       [ -80,  364, -118],\n",
       "       [  44, -200,   65]])"
      ]
     },
     "execution_count": 67,
     "metadata": {},
     "output_type": "execute_result"
    }
   ],
   "source": [
    "A = good[0][0]"
   ]
  },
  {
   "cell_type": "code",
   "execution_count": 751,
   "metadata": {},
   "outputs": [
    {
     "name": "stdout",
     "output_type": "stream",
     "text": [
      "[main 5508df3] web\n",
      " 1 file changed, 219 insertions(+), 60 deletions(-)\n",
      "Counting objects: 3, done.\n",
      "Delta compression using up to 12 threads.\n",
      "Compressing objects: 100% (3/3), done.\n",
      "Writing objects: 100% (3/3), 1.69 KiB | 1.69 MiB/s, done.\n",
      "Total 3 (delta 2), reused 0 (delta 0)\n",
      "remote: Resolving deltas: 100% (2/2), completed with 2 local objects.\u001b[K\n",
      "To https://github.com/macbuse/random-matrices-.git\n",
      "   3b71991..5508df3  main -> main\n"
     ]
    }
   ],
   "source": [
    "! ./.g"
   ]
  },
  {
   "cell_type": "code",
   "execution_count": 44,
   "metadata": {},
   "outputs": [
    {
     "ename": "LinAlgError",
     "evalue": "Singular matrix",
     "output_type": "error",
     "traceback": [
      "\u001b[0;31m---------------------------------------------------------------------------\u001b[0m",
      "\u001b[0;31mLinAlgError\u001b[0m                               Traceback (most recent call last)",
      "Cell \u001b[0;32mIn[44], line 1\u001b[0m\n\u001b[0;32m----> 1\u001b[0m np\u001b[38;5;241m.\u001b[39mlinalg\u001b[38;5;241m.\u001b[39minv(A)\n",
      "File \u001b[0;32m~/miniconda3/lib/python3.11/site-packages/numpy/linalg/linalg.py:561\u001b[0m, in \u001b[0;36minv\u001b[0;34m(a)\u001b[0m\n\u001b[1;32m    559\u001b[0m signature \u001b[38;5;241m=\u001b[39m \u001b[38;5;124m'\u001b[39m\u001b[38;5;124mD->D\u001b[39m\u001b[38;5;124m'\u001b[39m \u001b[38;5;28;01mif\u001b[39;00m isComplexType(t) \u001b[38;5;28;01melse\u001b[39;00m \u001b[38;5;124m'\u001b[39m\u001b[38;5;124md->d\u001b[39m\u001b[38;5;124m'\u001b[39m\n\u001b[1;32m    560\u001b[0m extobj \u001b[38;5;241m=\u001b[39m get_linalg_error_extobj(_raise_linalgerror_singular)\n\u001b[0;32m--> 561\u001b[0m ainv \u001b[38;5;241m=\u001b[39m _umath_linalg\u001b[38;5;241m.\u001b[39minv(a, signature\u001b[38;5;241m=\u001b[39msignature, extobj\u001b[38;5;241m=\u001b[39mextobj)\n\u001b[1;32m    562\u001b[0m \u001b[38;5;28;01mreturn\u001b[39;00m wrap(ainv\u001b[38;5;241m.\u001b[39mastype(result_t, copy\u001b[38;5;241m=\u001b[39m\u001b[38;5;28;01mFalse\u001b[39;00m))\n",
      "File \u001b[0;32m~/miniconda3/lib/python3.11/site-packages/numpy/linalg/linalg.py:112\u001b[0m, in \u001b[0;36m_raise_linalgerror_singular\u001b[0;34m(err, flag)\u001b[0m\n\u001b[1;32m    111\u001b[0m \u001b[38;5;28;01mdef\u001b[39;00m \u001b[38;5;21m_raise_linalgerror_singular\u001b[39m(err, flag):\n\u001b[0;32m--> 112\u001b[0m     \u001b[38;5;28;01mraise\u001b[39;00m LinAlgError(\u001b[38;5;124m\"\u001b[39m\u001b[38;5;124mSingular matrix\u001b[39m\u001b[38;5;124m\"\u001b[39m)\n",
      "\u001b[0;31mLinAlgError\u001b[0m: Singular matrix"
     ]
    }
   ],
   "source": [
    "np.linalg.inv(A)"
   ]
  },
  {
   "cell_type": "code",
   "execution_count": 16,
   "metadata": {},
   "outputs": [
    {
     "data": {
      "text/plain": [
       "array([[  1.,   0.,   0.],\n",
       "       [ -5.,   1.,   0.],\n",
       "       [-12.,   3.,   1.]])"
      ]
     },
     "execution_count": 16,
     "metadata": {},
     "output_type": "execute_result"
    }
   ],
   "source": [
    "U = np.identity(3)\n",
    "#U = A.copy()\n",
    "U[1] = U[1] - 5*U[0]\n",
    "U[2] = U[2] + 3*U[0]\n",
    "U[2] = U[2] + 3*U[1]\n",
    "U"
   ]
  },
  {
   "cell_type": "code",
   "execution_count": 9,
   "metadata": {},
   "outputs": [
    {
     "data": {
      "text/plain": [
       "array([[  1,  -2,   0],\n",
       "       [  5,  -8,   4],\n",
       "       [ 26, -38,  29]])"
      ]
     },
     "execution_count": 9,
     "metadata": {},
     "output_type": "execute_result"
    }
   ],
   "source": [
    "U = A.copy()\n",
    "U[1] = U[1] + 6*U[0]\n",
    "U[2] = U[2]  - 7*U[0]\n",
    "U[2] = U[2]  + 6*U[1]\n",
    "U"
   ]
  },
  {
   "cell_type": "markdown",
   "metadata": {},
   "source": [
    "---\n",
    "\n",
    "# next trick"
   ]
  },
  {
   "cell_type": "code",
   "execution_count": 18,
   "metadata": {},
   "outputs": [],
   "source": [
    "\n",
    "def rand_diagonalisable(max_int=3,\n",
    "             D=[1,2,3])->(np.array,np.array):\n",
    "    \n",
    "    '''returns \n",
    "    \n",
    "    3x3 matrix M with\n",
    "    - integer coefficients in [-max_int,max_int]\n",
    "    - eigenvalues from the list D\n",
    "    \n",
    "    3x3 matrix A with\n",
    "    - integer coefficients\n",
    "    - D = A^{-1}M A:w\n",
    "    '''\n",
    "    \n",
    "    # need to invert A so make sure det A = 1\n",
    "    A, ops, V = rand_inv(D=[1,1,1])\n",
    "    for i in range(3):\n",
    "        A[i] = kill_factors(A[i])\n",
    "    \n",
    "    #now the entries in each row have no common factors\n",
    "    #flip so it's true for the columns instead\n",
    "    A = A.transpose()\n",
    "\n",
    "    M =  A @ np.diag(D) @ np.linalg.inv(A)\n",
    "    \n",
    "    #bit of a hack np.int don't  work nice\n",
    "    return np.round(M).astype(int), A\n",
    "    "
   ]
  },
  {
   "cell_type": "markdown",
   "metadata": {},
   "source": [
    "---\n",
    "\n",
    "# Use case "
   ]
  },
  {
   "cell_type": "code",
   "execution_count": 26,
   "metadata": {},
   "outputs": [],
   "source": [
    "M, A = rand_diagonalisable(D=[1,2,3])\n",
    "#M, A, (np.linalg.inv(A)@M@A)[[0,1,2],[0,1,2]]"
   ]
  },
  {
   "cell_type": "code",
   "execution_count": 27,
   "metadata": {},
   "outputs": [
    {
     "data": {
      "text/plain": [
       "(array([[ 1,  0,  3],\n",
       "        [ 1,  2,  0],\n",
       "        [ 0, -6, 12]]),\n",
       " array([[ 1,  0,  1],\n",
       "        [ 1,  1,  0],\n",
       "        [ 0, -3,  4]]))"
      ]
     },
     "execution_count": 27,
     "metadata": {},
     "output_type": "execute_result"
    }
   ],
   "source": [
    "M@A, A"
   ]
  },
  {
   "cell_type": "code",
   "execution_count": 478,
   "metadata": {},
   "outputs": [],
   "source": [
    "mm = []"
   ]
  },
  {
   "cell_type": "code",
   "execution_count": 402,
   "metadata": {},
   "outputs": [],
   "source": [
    "mm = mm[:-1]"
   ]
  },
  {
   "cell_type": "code",
   "execution_count": 28,
   "metadata": {},
   "outputs": [
    {
     "ename": "NameError",
     "evalue": "name 'mm' is not defined",
     "output_type": "error",
     "traceback": [
      "\u001b[0;31m---------------------------------------------------------------------------\u001b[0m",
      "\u001b[0;31mNameError\u001b[0m                                 Traceback (most recent call last)",
      "Cell \u001b[0;32mIn[28], line 1\u001b[0m\n\u001b[0;32m----> 1\u001b[0m \u001b[38;5;28;01mfor\u001b[39;00m M,A \u001b[38;5;129;01min\u001b[39;00m mm:\n\u001b[1;32m      2\u001b[0m     dd \u001b[38;5;241m=\u001b[39m np\u001b[38;5;241m.\u001b[39mround( np\u001b[38;5;241m.\u001b[39mlinalg\u001b[38;5;241m.\u001b[39mdet(M))\n\u001b[1;32m      3\u001b[0m     \u001b[38;5;28mprint\u001b[39m(\u001b[38;5;124mf\u001b[39m\u001b[38;5;124m\"\u001b[39m\u001b[38;5;124mdet =\u001b[39m\u001b[38;5;132;01m{\u001b[39;00mdd\u001b[38;5;132;01m}\u001b[39;00m\u001b[38;5;124m <br>\u001b[39m\u001b[38;5;124m\"\u001b[39m)\n",
      "\u001b[0;31mNameError\u001b[0m: name 'mm' is not defined"
     ]
    }
   ],
   "source": [
    "for M,A in mm:\n",
    "    dd = np.round( np.linalg.det(M))\n",
    "    print(f\"det ={dd} <br>\")\n",
    "    print('val propres = {}<br>'.format( (np.linalg.inv(A)@ M @A)[[0,1,2],[0,1,2]] ) )\n",
    "    print('vecteurs propres =', A.transpose(),'<br>\\n')"
   ]
  },
  {
   "cell_type": "code",
   "execution_count": 570,
   "metadata": {},
   "outputs": [
    {
     "data": {
      "text/plain": [
       "'val propres = 2<br>\\n'"
      ]
     },
     "execution_count": 570,
     "metadata": {},
     "output_type": "execute_result"
    }
   ],
   "source": [
    "'val propres = {}<br>\\n'.format(2)"
   ]
  },
  {
   "cell_type": "code",
   "execution_count": 571,
   "metadata": {},
   "outputs": [
    {
     "ename": "SyntaxError",
     "evalue": "unmatched ')' (2639531852.py, line 1)",
     "output_type": "error",
     "traceback": [
      "\u001b[0;36m  Input \u001b[0;32mIn [571]\u001b[0;36m\u001b[0m\n\u001b[0;31m    np.linalg.inv(A)@M@A)[[0,1,2],[0,1,2]]\u001b[0m\n\u001b[0m                        ^\u001b[0m\n\u001b[0;31mSyntaxError\u001b[0m\u001b[0;31m:\u001b[0m unmatched ')'\n"
     ]
    }
   ],
   "source": [
    "np.linalg.inv(A)@M@A)[[0,1,2],[0,1,2]] "
   ]
  },
  {
   "cell_type": "code",
   "execution_count": 526,
   "metadata": {},
   "outputs": [
    {
     "name": "stdout",
     "output_type": "stream",
     "text": [
      "\\item $$\\begin{pmatrix}\n",
      "0 & -1 & -1 \\\\ \n",
      "-2 & 7 & 2 \\\\ \n",
      "4 & -16 & -5\n",
      "\\end{pmatrix}$$\n",
      "\n",
      "\\item $$\\begin{pmatrix}\n",
      "7 & 0 & 2 \\\\ \n",
      "-7 & 2 & -3 \\\\ \n",
      "-12 & 0 & -3\n",
      "\\end{pmatrix}$$\n",
      "\n",
      "\\item $$\\begin{pmatrix}\n",
      "3 & -4 & 2 \\\\ \n",
      "4 & -7 & 4 \\\\ \n",
      "4 & -8 & 5\n",
      "\\end{pmatrix}$$\n",
      "\n",
      "\\item $$\\begin{pmatrix}\n",
      "3 & -2 & -4 \\\\ \n",
      "-12 & 5 & 12 \\\\ \n",
      "8 & -4 & -9\n",
      "\\end{pmatrix}$$\n",
      "\n",
      "\\item $$\\begin{pmatrix}\n",
      "0 & 1 & 0 \\\\ \n",
      "-2 & 3 & 0 \\\\ \n",
      "-4 & 2 & 2\n",
      "\\end{pmatrix}$$\n",
      "\n",
      "\\item $$\\begin{pmatrix}\n",
      "5 & 2 & 0 \\\\ \n",
      "-2 & 0 & -1 \\\\ \n",
      "4 & 2 & 1\n",
      "\\end{pmatrix}$$\n",
      "\n"
     ]
    }
   ],
   "source": [
    "for M,A in mm:\n",
    "    print(\"\\item $$\" + m2t(M) + \"$$\\n\")\n",
    "    #print(np.linalg.inv(A)@M@A)"
   ]
  },
  {
   "cell_type": "code",
   "execution_count": 464,
   "metadata": {},
   "outputs": [
    {
     "data": {
      "text/plain": [
       "(array([[-2,  2,  4],\n",
       "        [-4,  4,  4],\n",
       "        [ 2, -2, -1]]),\n",
       " array([[ 1,  1,  2],\n",
       "        [ 1,  3,  2],\n",
       "        [ 0, -1, -1]]))"
      ]
     },
     "execution_count": 464,
     "metadata": {},
     "output_type": "execute_result"
    }
   ],
   "source": [
    "mm[-2]"
   ]
  },
  {
   "cell_type": "code",
   "execution_count": 458,
   "metadata": {},
   "outputs": [],
   "source": [
    "import pickle\n",
    "with open(\"mats.pkl\", \"wb\") as fp:\n",
    "    pickle.dump(mm,fp)"
   ]
  },
  {
   "cell_type": "code",
   "execution_count": null,
   "metadata": {},
   "outputs": [],
   "source": []
  }
 ],
 "metadata": {
  "kernelspec": {
   "display_name": "Python 3 (ipykernel)",
   "language": "python",
   "name": "python3"
  },
  "language_info": {
   "codemirror_mode": {
    "name": "ipython",
    "version": 3
   },
   "file_extension": ".py",
   "mimetype": "text/x-python",
   "name": "python",
   "nbconvert_exporter": "python",
   "pygments_lexer": "ipython3",
   "version": "3.11.5"
  },
  "widgets": {
   "application/vnd.jupyter.widget-state+json": {
    "state": {},
    "version_major": 2,
    "version_minor": 0
   }
  }
 },
 "nbformat": 4,
 "nbformat_minor": 4
}

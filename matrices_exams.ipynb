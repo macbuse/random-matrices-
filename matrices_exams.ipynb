{
 "cells": [
  {
   "cell_type": "markdown",
   "metadata": {},
   "source": [
    "# Simpler integer matrices\n",
    "\n",
    "One of the annoying things when teaching is that \n",
    "the **smartass** that sets the questions will just\n",
    "take random integer coefficients without thinking\n",
    "so you get a matrix that isn't nice to work with.\n",
    "\n",
    "\n",
    "This notebook attempts to solve the problem of the poor instructor/grader.\n",
    "\n",
    "- 3x3 rank 2 matrix with kernel and equation $ax + by + cz = 0$ for the image\n",
    "- 3x3 invertible matrix with given determinant and hints on how to find its inverse\n",
    "- a function for rendering an np.array as a LaTex pmatrix\n",
    "\n",
    "---\n",
    "\n",
    "## what you get?\n",
    "\n",
    "def rand_rank2(max_int=6):<br>\n",
    "\n",
    "    ''' returns \n",
    "        A rank 2,  3x3 matrix\n",
    "        K vector basis for the kernel\n",
    "        V vector orthogonal to the image\n",
    "    '''\n",
    "\n",
    "def rand_inv(high=3,\n",
    "             D=[1,1,1])->np.array:<br>\n",
    "    \n",
    "    ''' returns an invertible matrix with\n",
    "        - integer coefficients in the range [-high, high] \n",
    "        - determinant is the product of the elements of D\n",
    "        - a list of row operations to put it in upper triangular form\n",
    "        \n",
    "        see https://en.wikipedia.org/wiki/Bruhat_decomposition\n",
    "        \n",
    "        \n",
    "        \n",
    "def rand_diagonalisable(max_int=3,\n",
    "             D=[1,2,3])->(np.array,np.array):\n",
    "    \n",
    "    '''returns \n",
    "    \n",
    "    3x3 matrix M with\n",
    "    - integer coefficients in [-max_int,max_int]\n",
    "    - eigenvalues from the list D\n",
    "    \n",
    "    3x3 matrix A with\n",
    "    - integer coefficients\n",
    "    - M = A^{-1}DA\n",
    "    \n",
    "    '''\n",
    "        \n",
    "    \n",
    "\n",
    "---\n",
    "\n",
    "Copyright 2022  Greg McShane (macbuse.github)\n",
    "\n",
    "Permission is hereby granted, free of charge, to any person obtaining a copy of this software and associated documentation files (the \"Software\"), to deal in the Software without restriction, including without limitation the rights to use, copy, modify, merge, publish, distribute, sublicense, and/or sell copies of the Software, and to permit persons to whom the Software is furnished to do so, subject to the following conditions:\n",
    "\n",
    "The above copyright notice and this permission notice shall be included in all copies or substantial portions of the Software.\n",
    "\n",
    "THE SOFTWARE IS PROVIDED \"AS IS\", WITHOUT WARRANTY OF ANY KIND, EXPRESS OR IMPLIED, INCLUDING BUT NOT LIMITED TO THE WARRANTIES OF MERCHANTABILITY, FITNESS FOR A PARTICULAR PURPOSE AND NONINFRINGEMENT. IN NO EVENT SHALL THE AUTHORS OR COPYRIGHT HOLDERS BE LIABLE FOR ANY CLAIM, DAMAGES OR OTHER LIABILITY, WHETHER IN AN ACTION OF CONTRACT, TORT OR OTHERWISE, ARISING FROM, OUT OF OR IN CONNECTION WITH THE SOFTWARE OR THE USE OR OTHER DEALINGS IN THE SOFTWARE.\n"
   ]
  },
  {
   "cell_type": "code",
   "execution_count": 1,
   "metadata": {},
   "outputs": [],
   "source": [
    "import numpy as np\n",
    "\n",
    "def m2t(X):\n",
    "    def l2t(R):\n",
    "        return  ' & '.join([str(_) for _ in R])\n",
    "    \n",
    "    body = ' \\\\\\\\ \\n'.join([l2t(_) for _ in X ])\n",
    "    print(f\"\\\\begin{{pmatrix}}\\n{body}\\n\\\\end{{pmatrix}}\")"
   ]
  },
  {
   "cell_type": "code",
   "execution_count": 343,
   "metadata": {},
   "outputs": [
    {
     "data": {
      "text/plain": [
       "(array([[15, -4, -9],\n",
       "        [-3, -1,  3],\n",
       "        [-3,  2,  1]]),\n",
       " array([-7, -6, -9]),\n",
       " array([-1, -2, -3]))"
      ]
     },
     "execution_count": 343,
     "metadata": {},
     "output_type": "execute_result"
    }
   ],
   "source": [
    "def rand_rank2(max_int=6):\n",
    "    '''returns \n",
    "        A rank 2,  3x3 matrix\n",
    "        K vector basis for the kernel\n",
    "        V vector orthogonal to the image\n",
    "    '''\n",
    "    \n",
    "    def kill_factors(v):\n",
    "        \n",
    "        def gcd(b,a):\n",
    "            while b:\n",
    "                a,b = b,a%b\n",
    "            return a\n",
    "\n",
    "        x = sorted(list(abs(v)))\n",
    "        a = x[2]\n",
    "        for b in x[:2]:\n",
    "            a = gcd(a,b)\n",
    "            if a == 1 : return v\n",
    "        if a == 0 : return v\n",
    "        return v//a\n",
    "    \n",
    "    A = np.random.randint(-max_int, high=max_int,size=9).reshape(-1,3)\n",
    "\n",
    "    # make sure the first 2 rows are LI for the next step below\n",
    "    if np.all(np.cross(A[0],A[1])) == 0: \n",
    "        #random perturbation this might go beyond max_int :(\n",
    "        A[0,0] += np.random.choice([-1,1])\n",
    "\n",
    "    # I don't want a column with all zeros\n",
    "    for k,v in enumerate(np.all(A[:2,:] == 0,axis=0)):\n",
    "        if v: A[0,k] = 1\n",
    "\n",
    "    # and I don't like common factors either\n",
    "    A[0] = kill_factors(A[0])\n",
    "    A[1] = kill_factors(A[1])\n",
    "        \n",
    "    \n",
    "    # the 3rd row is a combination of the other two\n",
    "    V = np.random.choice([-5,-3,-2,-1,1,2,3,5], 3)\n",
    "    V[2] = -1\n",
    "    A[2] = V[:2] @ A[:2] \n",
    "    \n",
    "    #kernel is easy to calculate\n",
    "    K = kill_factors(np.cross(A[0],A[1]))\n",
    "    \n",
    "    #now shuffle the rows\n",
    "    perm = [0,1,2]\n",
    "    np.random.shuffle(perm)\n",
    "    \n",
    "    return A[perm], K, V[perm]\n",
    "\n",
    "#f\"{a}x + {b}y + {c}z = 0\":\n",
    "\n",
    "A,K,I = rand_rank2()\n",
    "A,K, I"
   ]
  },
  {
   "cell_type": "code",
   "execution_count": 344,
   "metadata": {},
   "outputs": [
    {
     "name": "stdout",
     "output_type": "stream",
     "text": [
      "[main 8c84c19] web\n",
      " 1 file changed, 29 insertions(+), 25 deletions(-)\n",
      "Counting objects: 3, done.\n",
      "Delta compression using up to 12 threads.\n",
      "Compressing objects: 100% (3/3), done.\n",
      "Writing objects: 100% (3/3), 675 bytes | 675.00 KiB/s, done.\n",
      "Total 3 (delta 2), reused 0 (delta 0)\n",
      "remote: Resolving deltas: 100% (2/2), completed with 2 local objects.\u001b[K\n",
      "To https://github.com/macbuse/random-matrices-.git\n",
      "   8b28a82..8c84c19  main -> main\n"
     ]
    }
   ],
   "source": [
    "! ./.g"
   ]
  },
  {
   "cell_type": "code",
   "execution_count": 347,
   "metadata": {},
   "outputs": [
    {
     "name": "stdout",
     "output_type": "stream",
     "text": [
      "[[ 2 -5 -5]\n",
      " [ 4 -8 -4]\n",
      " [ 4 -6  3]] \n",
      "\n",
      "L_2 <- L_2 - 2L_1\n",
      "L_3 <- L_3 - 2L_1\n",
      "L_3 <- L_3 - 2L_2\n"
     ]
    }
   ],
   "source": [
    "import re\n",
    "\n",
    "def tidy(ss):\n",
    "    '''clean up a list of row operations'''\n",
    "    ss = re.sub('\\+ \\-', '- ',ss)\n",
    "    ss = re.sub('([\\s|-])1L', lambda x: x[1] + 'L',ss)\n",
    "    return ss\n",
    "\n",
    "def ut(L:list, \n",
    "       D=[1,1,1])->np.array:\n",
    "    \n",
    "    x,y,z = L\n",
    "    A  = np.diag(D).astype(int)\n",
    "    A[0,1:] = x,y\n",
    "    A[1,-1] = z\n",
    "    return A\n",
    "\n",
    "def rand_inv(max_int=3,\n",
    "             D=[1,1,1])->np.array:\n",
    "    \n",
    "    ''' returns an invertible 3x3 matrix with\n",
    "        - integer coefficients in the range [-high, high] \n",
    "        - determinant is the product of the elements of D\n",
    "        - a list of row operations to put it in upper triangular form\n",
    "        \n",
    "        see https://en.wikipedia.org/wiki/Bruhat_decomposition\n",
    "        \n",
    "    '''\n",
    "    \n",
    "    X,Y = np.random.randint(-max_int,high=max_int,size=6).reshape(2,-1)\n",
    "    coeffs = ut(X).T[[1,2,2],[0,0,1]]\n",
    "    coeffs *= -1\n",
    "    \n",
    "    row_ops = ['L_2 <- L_2 + {}L_1',\n",
    "           'L_3 <- L_3 + {}L_1', \n",
    "           'L_3 <- L_3 + {}L_2']\n",
    "    row_ops = [ss.format(coeff) for coeff,ss in zip(coeffs, row_ops) if coeff != 0]\n",
    "    \n",
    "    return ut (X).T @ ut(Y, D=D), '\\n'.join(row_ops)\n",
    "\n",
    "A, B = rand_inv(D=[2,2,1],\n",
    "                max_int=8)\n",
    "print(A, '\\n'*2 + tidy(B))"
   ]
  },
  {
   "cell_type": "code",
   "execution_count": 35,
   "metadata": {},
   "outputs": [
    {
     "data": {
      "text/plain": [
       "'L_3 <- L_3 + -L_2'"
      ]
     },
     "execution_count": 35,
     "metadata": {},
     "output_type": "execute_result"
    }
   ],
   "source": [
    "ss = 'L_3 <- L_3 + -1L_2'\n",
    "re.sub('([\\s|-])1L', lambda x: x[1] + 'L',ss)"
   ]
  },
  {
   "cell_type": "code",
   "execution_count": null,
   "metadata": {},
   "outputs": [],
   "source": []
  },
  {
   "cell_type": "code",
   "execution_count": 349,
   "metadata": {},
   "outputs": [],
   "source": [
    "\n",
    "def rand_diagonalisable(max_int=3,\n",
    "             D=[1,2,3])->(np.array,np.array):\n",
    "    \n",
    "    '''returns \n",
    "    \n",
    "    3x3 matrix M with\n",
    "    - integer coefficients in [-max_int,max_int]\n",
    "    - eigenvalues from the list D\n",
    "    \n",
    "    3x3 matrix A with\n",
    "    - integer coefficients\n",
    "    - D = A^{-1}M A\n",
    "    \n",
    "    '''\n",
    "    \n",
    "    A, ops = rand_inv()\n",
    "\n",
    "    M =  A @ np.diag(D) @ np.linalg.inv(A)\n",
    "    \n",
    "    #bit of a hack np.rint don't  work nice\n",
    "    return np.round(M).astype(int), \n",
    "    "
   ]
  },
  {
   "cell_type": "code",
   "execution_count": 258,
   "metadata": {},
   "outputs": [
    {
     "data": {
      "text/plain": [
       "array([[0, 0, 0],\n",
       "       [0, 0, 0],\n",
       "       [0, 0, 0]])"
      ]
     },
     "execution_count": 258,
     "metadata": {},
     "output_type": "execute_result"
    }
   ],
   "source": [
    "M, A = rand_diagonalisable([1,2,2])\n",
    "M - M.astype(int)"
   ]
  },
  {
   "cell_type": "code",
   "execution_count": 255,
   "metadata": {},
   "outputs": [
    {
     "data": {
      "text/plain": [
       "-3.108624468950436e-15"
      ]
     },
     "execution_count": 255,
     "metadata": {},
     "output_type": "execute_result"
    }
   ],
   "source": [
    "np.linalg.det(M - 2*np.identity(3,dtype=int))"
   ]
  },
  {
   "cell_type": "code",
   "execution_count": 262,
   "metadata": {},
   "outputs": [
    {
     "data": {
      "text/plain": [
       "array([[ 1.,  0., -0.],\n",
       "       [ 0.,  2.,  0.],\n",
       "       [ 0., -0.,  3.]])"
      ]
     },
     "execution_count": 262,
     "metadata": {},
     "output_type": "execute_result"
    }
   ],
   "source": [
    "np.round(A@M@np.linalg.inv(A))"
   ]
  },
  {
   "cell_type": "code",
   "execution_count": null,
   "metadata": {},
   "outputs": [],
   "source": []
  }
 ],
 "metadata": {
  "kernelspec": {
   "display_name": "Python 3 (ipykernel)",
   "language": "python",
   "name": "python3"
  },
  "language_info": {
   "codemirror_mode": {
    "name": "ipython",
    "version": 3
   },
   "file_extension": ".py",
   "mimetype": "text/x-python",
   "name": "python",
   "nbconvert_exporter": "python",
   "pygments_lexer": "ipython3",
   "version": "3.9.12"
  },
  "widgets": {
   "application/vnd.jupyter.widget-state+json": {
    "state": {},
    "version_major": 2,
    "version_minor": 0
   }
  }
 },
 "nbformat": 4,
 "nbformat_minor": 4
}
